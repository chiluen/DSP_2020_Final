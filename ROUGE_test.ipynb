{
 "cells": [
  {
   "cell_type": "code",
   "execution_count": 36,
   "metadata": {},
   "outputs": [],
   "source": [
    "from rouge_score import rouge_scorer\n",
    "import tensorflow_datasets as tfds\n",
    "import time\n",
    "import numpy as np"
   ]
  },
  {
   "cell_type": "markdown",
   "metadata": {},
   "source": [
    "## Load Dataset ( Or download it )"
   ]
  },
  {
   "cell_type": "code",
   "execution_count": 2,
   "metadata": {},
   "outputs": [],
   "source": [
    "#df = tfds.load('cnn_dailymail', data_dir='/home/chiluen/Desktop/')\n",
    "df = tfds.load('cnn_dailymail', split='test', data_dir='/home/chiluen/Desktop/DSP_2020_Final/', download=False)"
   ]
  },
  {
   "cell_type": "markdown",
   "metadata": {},
   "source": [
    "## Load Model for testing"
   ]
  },
  {
   "cell_type": "code",
   "execution_count": 37,
   "metadata": {},
   "outputs": [],
   "source": [
    "from model.extractive import bert_knn, textrank\n",
    "model = bert_knn()"
   ]
  },
  {
   "cell_type": "code",
   "execution_count": 28,
   "metadata": {},
   "outputs": [
    {
     "data": {
      "text/plain": [
       "1610722738.4584692"
      ]
     },
     "execution_count": 28,
     "metadata": {},
     "output_type": "execute_result"
    }
   ],
   "source": [
    "time.time()"
   ]
  },
  {
   "cell_type": "markdown",
   "metadata": {},
   "source": [
    "## Testing for Extractive"
   ]
  },
  {
   "cell_type": "code",
   "execution_count": null,
   "metadata": {},
   "outputs": [],
   "source": [
    "#albert-base-v1\n",
    "#bert-base-uncased"
   ]
  },
  {
   "cell_type": "code",
   "execution_count": null,
   "metadata": {},
   "outputs": [
    {
     "name": "stdout",
     "output_type": "stream",
     "text": [
      "Finish: 0.0\n",
      "Finish: 0.01\n",
      "Finish: 0.02\n",
      "Finish: 0.03\n",
      "Finish: 0.03\n",
      "Finish: 0.04\n",
      "Finish: 0.05\n",
      "Finish: 0.06\n",
      "Finish: 0.07\n",
      "Finish: 0.08\n",
      "Finish: 0.09\n",
      "Finish: 0.1\n",
      "Finish: 0.1\n",
      "Finish: 0.11\n",
      "Finish: 0.12\n",
      "Finish: 0.13\n",
      "Finish: 0.14\n",
      "Finish: 0.15\n",
      "Finish: 0.16\n",
      "Finish: 0.17\n",
      "Finish: 0.17\n",
      "Finish: 0.18\n",
      "Finish: 0.19\n",
      "Finish: 0.2\n",
      "Finish: 0.21\n",
      "Finish: 0.22\n",
      "Finish: 0.23\n",
      "Finish: 0.23\n",
      "Finish: 0.24\n",
      "Finish: 0.25\n",
      "Finish: 0.26\n",
      "Finish: 0.27\n",
      "Finish: 0.28\n",
      "Finish: 0.29\n",
      "Finish: 0.3\n",
      "Finish: 0.3\n",
      "Finish: 0.31\n",
      "Finish: 0.32\n",
      "Finish: 0.33\n",
      "Finish: 0.34\n",
      "Finish: 0.35\n",
      "Finish: 0.36\n",
      "Finish: 0.37\n",
      "Finish: 0.37\n",
      "Finish: 0.38\n",
      "Finish: 0.39\n",
      "Finish: 0.4\n",
      "Finish: 0.41\n",
      "Finish: 0.42\n",
      "Finish: 0.43\n",
      "Finish: 0.44\n",
      "Finish: 0.44\n",
      "Finish: 0.45\n",
      "Finish: 0.46\n",
      "Finish: 0.47\n",
      "Finish: 0.48\n",
      "Finish: 0.49\n",
      "Finish: 0.5\n",
      "Finish: 0.5\n",
      "Finish: 0.51\n",
      "Finish: 0.52\n",
      "Finish: 0.53\n",
      "Finish: 0.54\n",
      "Finish: 0.55\n",
      "Finish: 0.56\n",
      "Finish: 0.57\n",
      "Finish: 0.57\n",
      "Finish: 0.58\n",
      "Finish: 0.59\n",
      "Finish: 0.6\n",
      "Finish: 0.61\n",
      "Finish: 0.62\n",
      "Finish: 0.63\n",
      "Finish: 0.64\n",
      "Finish: 0.64\n",
      "Finish: 0.65\n",
      "Finish: 0.66\n",
      "Finish: 0.67\n",
      "Finish: 0.68\n",
      "Finish: 0.69\n",
      "Finish: 0.7\n",
      "Finish: 0.7\n",
      "Finish: 0.71\n",
      "Finish: 0.72\n",
      "Finish: 0.73\n",
      "Finish: 0.74\n"
     ]
    }
   ],
   "source": [
    "## 都看fmeasure就好, 主要跟recall較相近\n",
    "NUM_SENTENCES = 1\n",
    "rouge1_list = []\n",
    "rouge2_list = []\n",
    "rougeL_list = []\n",
    "\n",
    "scorer = rouge_scorer.RougeScorer(['rouge1', 'rouge2', 'rougeL'], use_stemmer=True)\n",
    "start_time = time.time()\n",
    "for step,example in enumerate(df):  # example is `{'image': tf.Tensor, 'label': tf.Tensor}`\n",
    "    article = bytes.decode(example[\"article\"].numpy())\n",
    "    highlights = bytes.decode(example[\"highlights\"].numpy()).split(\"\\n\") #有多個reference\n",
    "    \n",
    "    hyp = model.inference(article, NUM_SENTENCES)\n",
    "    \n",
    "    rouge1 = -1\n",
    "    rouge2 = -1\n",
    "    rougeL = -1\n",
    "    for i in range(len(highlights)):\n",
    "        scores = scorer.score(hyp, highlights[i])\n",
    "        # 選ref中最大的\n",
    "        if scores['rouge1'].fmeasure > rouge1:\n",
    "            rouge1 = scores['rouge1'].fmeasure\n",
    "        if scores['rouge2'].fmeasure > rouge2:\n",
    "            rouge2 = scores['rouge2'].fmeasure\n",
    "        if scores['rougeL'].fmeasure > rougeL:\n",
    "            rougeL = scores['rougeL'].fmeasure\n",
    "    \n",
    "    rouge1_list.append(rouge1)\n",
    "    rouge2_list.append(rouge2)\n",
    "    rougeL_list.append(rougeL)\n",
    "    \n",
    "    if step % 100 == 0:\n",
    "        print(\"Finish: {}\".format(round(step/len(df), 2)))\n",
    "end_time = time.time()\n",
    "print(\"Total_time: {}\".format(end_time - start_time))"
   ]
  },
  {
   "cell_type": "code",
   "execution_count": 41,
   "metadata": {},
   "outputs": [
    {
     "name": "stdout",
     "output_type": "stream",
     "text": [
      "Rougue1: 0.21996806088753865\n",
      "Rougue2: 0.11175865037595997\n",
      "RougueL: 0.1801451421322832\n"
     ]
    }
   ],
   "source": [
    "print(\"Rougue1: {}\".format(np.mean(rouge1_list)))\n",
    "print(\"Rougue2: {}\".format(np.mean(rouge2_list)))\n",
    "print(\"RougueL: {}\".format(np.mean(rougeL_list)))"
   ]
  },
  {
   "cell_type": "markdown",
   "metadata": {},
   "source": [
    "## Testing for Abstractive"
   ]
  },
  {
   "cell_type": "code",
   "execution_count": null,
   "metadata": {},
   "outputs": [],
   "source": [
    "## 都看fmeasure就好, 主要跟recall較相近\n",
    "NUM_SENTENCES = 2\n",
    "rouge1_list = []\n",
    "rouge2_list = []\n",
    "rougeL_list = []\n",
    "\n",
    "scorer = rouge_scorer.RougeScorer(['rouge1', 'rouge2', 'rougeL'], use_stemmer=True)\n",
    "start_time = time.time()\n",
    "for step,example in enumerate(df):  # example is `{'image': tf.Tensor, 'label': tf.Tensor}`\n",
    "    article = bytes.decode(example[\"article\"].numpy())\n",
    "    highlights = bytes.decode(example[\"highlights\"].numpy()).split(\"\\n\") #有多個reference\n",
    "    \n",
    "    hyp = model.inference(article, NUM_SENTENCES)\n",
    "    \n",
    "    rouge1 = -1\n",
    "    rouge2 = -1\n",
    "    rougeL = -1\n",
    "    for i in range(len(highlights)):\n",
    "        scores = scorer.score(hyp, highlights[i])\n",
    "        # 選ref中最大的\n",
    "        if scores['rouge1'].fmeasure > rouge1:\n",
    "            rouge1 = scores['rouge1'].fmeasure\n",
    "        if scores['rouge2'].fmeasure > rouge2:\n",
    "            rouge2 = scores['rouge2'].fmeasure\n",
    "        if scores['rougeL'].fmeasure > rougeL:\n",
    "            rougeL = scores['rougeL'].fmeasure\n",
    "    \n",
    "    rouge1_list.append(rouge1)\n",
    "    rouge2_list.append(rouge2)\n",
    "    rougeL_list.append(rougeL)\n",
    "    \n",
    "    if step % 100 == 0:\n",
    "        print(\"Finish: {}\".format(round(step/len(df), 2)))\n",
    "end_time = time.time()\n",
    "print(\"Total_time: {}\".format(end_time - start_time))"
   ]
  },
  {
   "cell_type": "code",
   "execution_count": null,
   "metadata": {},
   "outputs": [],
   "source": []
  },
  {
   "cell_type": "code",
   "execution_count": null,
   "metadata": {},
   "outputs": [],
   "source": []
  }
 ],
 "metadata": {
  "kernelspec": {
   "display_name": "Python 3",
   "language": "python",
   "name": "python3"
  },
  "language_info": {
   "codemirror_mode": {
    "name": "ipython",
    "version": 3
   },
   "file_extension": ".py",
   "mimetype": "text/x-python",
   "name": "python",
   "nbconvert_exporter": "python",
   "pygments_lexer": "ipython3",
   "version": "3.6.9"
  }
 },
 "nbformat": 4,
 "nbformat_minor": 4
}
