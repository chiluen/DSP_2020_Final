{
 "cells": [
  {
   "cell_type": "code",
   "execution_count": 1,
   "metadata": {},
   "outputs": [
    {
     "name": "stdout",
     "output_type": "stream",
     "text": [
      "import done\n"
     ]
    }
   ],
   "source": [
    "from rouge_score import rouge_scorer\n",
    "import tensorflow_datasets as tfds\n",
    "import time\n",
    "import numpy as np\n",
    "print(\"import done\")"
   ]
  },
  {
   "cell_type": "markdown",
   "metadata": {},
   "source": [
    "## Load Dataset ( Or download it )"
   ]
  },
  {
   "cell_type": "code",
   "execution_count": 2,
   "metadata": {},
   "outputs": [
    {
     "name": "stdout",
     "output_type": "stream",
     "text": [
      "load done\n"
     ]
    }
   ],
   "source": [
    "#df = tfds.load('cnn_dailymail', data_dir='./')\n",
    "df = tfds.load('cnn_dailymail', split='test', data_dir='./', download=False)\n",
    "print(\"load done\")"
   ]
  },
  {
   "cell_type": "code",
   "execution_count": 3,
   "metadata": {},
   "outputs": [
    {
     "ename": "OSError",
     "evalue": "./pretrained_model/universal-sentence-encoder_4/ does not exist.",
     "output_type": "error",
     "traceback": [
      "\u001b[0;31m---------------------------------------------------------------------------\u001b[0m",
      "\u001b[0;31mOSError\u001b[0m                                   Traceback (most recent call last)",
      "\u001b[0;32m<ipython-input-3-c5c731d405bc>\u001b[0m in \u001b[0;36m<module>\u001b[0;34m\u001b[0m\n\u001b[1;32m      1\u001b[0m \u001b[0;32mfrom\u001b[0m \u001b[0mmodel\u001b[0m\u001b[0;34m.\u001b[0m\u001b[0mextractive\u001b[0m \u001b[0;32mimport\u001b[0m \u001b[0mtextrank\u001b[0m\u001b[0;34m\u001b[0m\u001b[0;34m\u001b[0m\u001b[0m\n\u001b[0;32m----> 2\u001b[0;31m \u001b[0mmodel\u001b[0m \u001b[0;34m=\u001b[0m \u001b[0mtextrank\u001b[0m\u001b[0;34m(\u001b[0m\u001b[0;34m)\u001b[0m\u001b[0;34m\u001b[0m\u001b[0;34m\u001b[0m\u001b[0m\n\u001b[0m",
      "\u001b[0;32m~/Desktop/text_summarization/DSP_2020_Final/model/extractive.py\u001b[0m in \u001b[0;36m__init__\u001b[0;34m(self)\u001b[0m\n\u001b[1;32m     31\u001b[0m \u001b[0;32mclass\u001b[0m \u001b[0mtextrank\u001b[0m\u001b[0;34m(\u001b[0m\u001b[0;34m)\u001b[0m\u001b[0;34m:\u001b[0m\u001b[0;34m\u001b[0m\u001b[0;34m\u001b[0m\u001b[0m\n\u001b[1;32m     32\u001b[0m     \u001b[0;32mdef\u001b[0m \u001b[0m__init__\u001b[0m\u001b[0;34m(\u001b[0m\u001b[0mself\u001b[0m\u001b[0;34m)\u001b[0m\u001b[0;34m:\u001b[0m\u001b[0;34m\u001b[0m\u001b[0;34m\u001b[0m\u001b[0m\n\u001b[0;32m---> 33\u001b[0;31m         \u001b[0mself\u001b[0m\u001b[0;34m.\u001b[0m\u001b[0membed\u001b[0m \u001b[0;34m=\u001b[0m \u001b[0mhub\u001b[0m\u001b[0;34m.\u001b[0m\u001b[0mload\u001b[0m\u001b[0;34m(\u001b[0m\u001b[0mPRETRAINED_ROOT\u001b[0m \u001b[0;34m+\u001b[0m \u001b[0;34m\"/universal-sentence-encoder_4/\"\u001b[0m\u001b[0;34m)\u001b[0m\u001b[0;34m\u001b[0m\u001b[0;34m\u001b[0m\u001b[0m\n\u001b[0m\u001b[1;32m     34\u001b[0m \u001b[0;34m\u001b[0m\u001b[0m\n\u001b[1;32m     35\u001b[0m     \u001b[0;32mdef\u001b[0m \u001b[0msummarize\u001b[0m\u001b[0;34m(\u001b[0m\u001b[0mself\u001b[0m\u001b[0;34m,\u001b[0m \u001b[0mtext\u001b[0m\u001b[0;34m)\u001b[0m\u001b[0;34m:\u001b[0m\u001b[0;34m\u001b[0m\u001b[0;34m\u001b[0m\u001b[0m\n",
      "\u001b[0;32m~/Desktop/torchenv/lib/python3.6/site-packages/tensorflow_hub/module_v2.py\u001b[0m in \u001b[0;36mload\u001b[0;34m(handle, tags, options)\u001b[0m\n\u001b[1;32m     90\u001b[0m   \u001b[0;32mif\u001b[0m \u001b[0;32mnot\u001b[0m \u001b[0misinstance\u001b[0m\u001b[0;34m(\u001b[0m\u001b[0mhandle\u001b[0m\u001b[0;34m,\u001b[0m \u001b[0mstr\u001b[0m\u001b[0;34m)\u001b[0m\u001b[0;34m:\u001b[0m\u001b[0;34m\u001b[0m\u001b[0;34m\u001b[0m\u001b[0m\n\u001b[1;32m     91\u001b[0m     \u001b[0;32mraise\u001b[0m \u001b[0mValueError\u001b[0m\u001b[0;34m(\u001b[0m\u001b[0;34m\"Expected a string, got %s\"\u001b[0m \u001b[0;34m%\u001b[0m \u001b[0mhandle\u001b[0m\u001b[0;34m)\u001b[0m\u001b[0;34m\u001b[0m\u001b[0;34m\u001b[0m\u001b[0m\n\u001b[0;32m---> 92\u001b[0;31m   \u001b[0mmodule_path\u001b[0m \u001b[0;34m=\u001b[0m \u001b[0mresolve\u001b[0m\u001b[0;34m(\u001b[0m\u001b[0mhandle\u001b[0m\u001b[0;34m)\u001b[0m\u001b[0;34m\u001b[0m\u001b[0;34m\u001b[0m\u001b[0m\n\u001b[0m\u001b[1;32m     93\u001b[0m   is_hub_module_v1 = tf.io.gfile.exists(\n\u001b[1;32m     94\u001b[0m       native_module.get_module_proto_path(module_path))\n",
      "\u001b[0;32m~/Desktop/torchenv/lib/python3.6/site-packages/tensorflow_hub/module_v2.py\u001b[0m in \u001b[0;36mresolve\u001b[0;34m(handle)\u001b[0m\n\u001b[1;32m     45\u001b[0m     \u001b[0mA\u001b[0m \u001b[0mstring\u001b[0m \u001b[0mrepresenting\u001b[0m \u001b[0mthe\u001b[0m \u001b[0mModule\u001b[0m \u001b[0mpath\u001b[0m\u001b[0;34m.\u001b[0m\u001b[0;34m\u001b[0m\u001b[0;34m\u001b[0m\u001b[0m\n\u001b[1;32m     46\u001b[0m   \"\"\"\n\u001b[0;32m---> 47\u001b[0;31m   \u001b[0;32mreturn\u001b[0m \u001b[0mregistry\u001b[0m\u001b[0;34m.\u001b[0m\u001b[0mresolver\u001b[0m\u001b[0;34m(\u001b[0m\u001b[0mhandle\u001b[0m\u001b[0;34m)\u001b[0m\u001b[0;34m\u001b[0m\u001b[0;34m\u001b[0m\u001b[0m\n\u001b[0m\u001b[1;32m     48\u001b[0m \u001b[0;34m\u001b[0m\u001b[0m\n\u001b[1;32m     49\u001b[0m \u001b[0;34m\u001b[0m\u001b[0m\n",
      "\u001b[0;32m~/Desktop/torchenv/lib/python3.6/site-packages/tensorflow_hub/registry.py\u001b[0m in \u001b[0;36m__call__\u001b[0;34m(self, *args, **kwargs)\u001b[0m\n\u001b[1;32m     49\u001b[0m     \u001b[0;32mfor\u001b[0m \u001b[0mimpl\u001b[0m \u001b[0;32min\u001b[0m \u001b[0mreversed\u001b[0m\u001b[0;34m(\u001b[0m\u001b[0mself\u001b[0m\u001b[0;34m.\u001b[0m\u001b[0m_impls\u001b[0m\u001b[0;34m)\u001b[0m\u001b[0;34m:\u001b[0m\u001b[0;34m\u001b[0m\u001b[0;34m\u001b[0m\u001b[0m\n\u001b[1;32m     50\u001b[0m       \u001b[0;32mif\u001b[0m \u001b[0mimpl\u001b[0m\u001b[0;34m.\u001b[0m\u001b[0mis_supported\u001b[0m\u001b[0;34m(\u001b[0m\u001b[0;34m*\u001b[0m\u001b[0margs\u001b[0m\u001b[0;34m,\u001b[0m \u001b[0;34m**\u001b[0m\u001b[0mkwargs\u001b[0m\u001b[0;34m)\u001b[0m\u001b[0;34m:\u001b[0m\u001b[0;34m\u001b[0m\u001b[0;34m\u001b[0m\u001b[0m\n\u001b[0;32m---> 51\u001b[0;31m         \u001b[0;32mreturn\u001b[0m \u001b[0mimpl\u001b[0m\u001b[0;34m(\u001b[0m\u001b[0;34m*\u001b[0m\u001b[0margs\u001b[0m\u001b[0;34m,\u001b[0m \u001b[0;34m**\u001b[0m\u001b[0mkwargs\u001b[0m\u001b[0;34m)\u001b[0m\u001b[0;34m\u001b[0m\u001b[0;34m\u001b[0m\u001b[0m\n\u001b[0m\u001b[1;32m     52\u001b[0m       \u001b[0;32melse\u001b[0m\u001b[0;34m:\u001b[0m\u001b[0;34m\u001b[0m\u001b[0;34m\u001b[0m\u001b[0m\n\u001b[1;32m     53\u001b[0m         \u001b[0mfails\u001b[0m\u001b[0;34m.\u001b[0m\u001b[0mappend\u001b[0m\u001b[0;34m(\u001b[0m\u001b[0mtype\u001b[0m\u001b[0;34m(\u001b[0m\u001b[0mimpl\u001b[0m\u001b[0;34m)\u001b[0m\u001b[0;34m.\u001b[0m\u001b[0m__name__\u001b[0m\u001b[0;34m)\u001b[0m\u001b[0;34m\u001b[0m\u001b[0;34m\u001b[0m\u001b[0m\n",
      "\u001b[0;32m~/Desktop/torchenv/lib/python3.6/site-packages/tensorflow_hub/resolver.py\u001b[0m in \u001b[0;36m__call__\u001b[0;34m(self, handle)\u001b[0m\n\u001b[1;32m    485\u001b[0m   \u001b[0;32mdef\u001b[0m \u001b[0m__call__\u001b[0m\u001b[0;34m(\u001b[0m\u001b[0mself\u001b[0m\u001b[0;34m,\u001b[0m \u001b[0mhandle\u001b[0m\u001b[0;34m)\u001b[0m\u001b[0;34m:\u001b[0m\u001b[0;34m\u001b[0m\u001b[0;34m\u001b[0m\u001b[0m\n\u001b[1;32m    486\u001b[0m     \u001b[0;32mif\u001b[0m \u001b[0;32mnot\u001b[0m \u001b[0mtf\u001b[0m\u001b[0;34m.\u001b[0m\u001b[0mcompat\u001b[0m\u001b[0;34m.\u001b[0m\u001b[0mv1\u001b[0m\u001b[0;34m.\u001b[0m\u001b[0mgfile\u001b[0m\u001b[0;34m.\u001b[0m\u001b[0mExists\u001b[0m\u001b[0;34m(\u001b[0m\u001b[0mhandle\u001b[0m\u001b[0;34m)\u001b[0m\u001b[0;34m:\u001b[0m\u001b[0;34m\u001b[0m\u001b[0;34m\u001b[0m\u001b[0m\n\u001b[0;32m--> 487\u001b[0;31m       \u001b[0;32mraise\u001b[0m \u001b[0mIOError\u001b[0m\u001b[0;34m(\u001b[0m\u001b[0;34m\"%s does not exist.\"\u001b[0m \u001b[0;34m%\u001b[0m \u001b[0mhandle\u001b[0m\u001b[0;34m)\u001b[0m\u001b[0;34m\u001b[0m\u001b[0;34m\u001b[0m\u001b[0m\n\u001b[0m\u001b[1;32m    488\u001b[0m     \u001b[0;32mreturn\u001b[0m \u001b[0mhandle\u001b[0m\u001b[0;34m\u001b[0m\u001b[0;34m\u001b[0m\u001b[0m\n\u001b[1;32m    489\u001b[0m \u001b[0;34m\u001b[0m\u001b[0m\n",
      "\u001b[0;31mOSError\u001b[0m: ./pretrained_model/universal-sentence-encoder_4/ does not exist."
     ]
    }
   ],
   "source": [
    "from model.extractive import textrank\n",
    "model = textrank()"
   ]
  },
  {
   "cell_type": "markdown",
   "metadata": {},
   "source": [
    "## Load Model for testing"
   ]
  },
  {
   "cell_type": "code",
   "execution_count": 25,
   "metadata": {},
   "outputs": [
    {
     "data": {
      "application/vnd.jupyter.widget-view+json": {
       "model_id": "dbef0e6b13bb46058cacb49c33c7f4c0",
       "version_major": 2,
       "version_minor": 0
      },
      "text/plain": [
       "Downloading:   0%|          | 0.00/433 [00:00<?, ?B/s]"
      ]
     },
     "metadata": {},
     "output_type": "display_data"
    },
    {
     "data": {
      "application/vnd.jupyter.widget-view+json": {
       "model_id": "8eae6d471ec54386a6d98f978a3ce9ec",
       "version_major": 2,
       "version_minor": 0
      },
      "text/plain": [
       "Downloading:   0%|          | 0.00/440M [00:00<?, ?B/s]"
      ]
     },
     "metadata": {},
     "output_type": "display_data"
    }
   ],
   "source": [
    "from model.extractive import bert_knn, textrank\n",
    "model = bert_knn('bert-base-uncased')"
   ]
  },
  {
   "cell_type": "markdown",
   "metadata": {},
   "source": [
    "## Testing for Extractive"
   ]
  },
  {
   "cell_type": "code",
   "execution_count": null,
   "metadata": {},
   "outputs": [],
   "source": [
    "#albert-base-v1\n",
    "#bert-base-uncased"
   ]
  },
  {
   "cell_type": "code",
   "execution_count": null,
   "metadata": {},
   "outputs": [],
   "source": [
    "## 都看fmeasure就好, 主要跟recall較相近\n",
    "NUM_SENTENCES = 1\n",
    "rouge1_list = []\n",
    "rouge2_list = []\n",
    "rougeL_list = []\n",
    "\n",
    "scorer = rouge_scorer.RougeScorer(['rouge1', 'rouge2', 'rougeL'], use_stemmer=True)\n",
    "start_time = time.time()\n",
    "for step,example in enumerate(df):  # example is `{'image': tf.Tensor, 'label': tf.Tensor}`\n",
    "    article = bytes.decode(example[\"article\"].numpy())\n",
    "    highlights = bytes.decode(example[\"highlights\"].numpy()).split(\"\\n\") #有多個reference\n",
    "    \n",
    "    hyp = model.inference(article, NUM_SENTENCES)\n",
    "    \n",
    "    rouge1 = -1\n",
    "    rouge2 = -1\n",
    "    rougeL = -1\n",
    "    for i in range(len(highlights)):\n",
    "        scores = scorer.score(hyp, highlights[i])\n",
    "        # 選ref中最大的\n",
    "        if scores['rouge1'].fmeasure > rouge1:\n",
    "            rouge1 = scores['rouge1'].fmeasure\n",
    "        if scores['rouge2'].fmeasure > rouge2:\n",
    "            rouge2 = scores['rouge2'].fmeasure\n",
    "        if scores['rougeL'].fmeasure > rougeL:\n",
    "            rougeL = scores['rougeL'].fmeasure\n",
    "    \n",
    "    rouge1_list.append(rouge1)\n",
    "    rouge2_list.append(rouge2)\n",
    "    rougeL_list.append(rougeL)\n",
    "    \n",
    "    if step % 100 == 0:\n",
    "        print(\"Finish: {}\".format(round(step/len(df), 2)))\n",
    "end_time = time.time()\n",
    "print(\"Total_time: {}\".format(end_time - start_time))"
   ]
  },
  {
   "cell_type": "code",
   "execution_count": 46,
   "metadata": {},
   "outputs": [
    {
     "name": "stdout",
     "output_type": "stream",
     "text": [
      "Rougue1: 0.2564538828550391\n",
      "Rougue2: 0.12539873400579082\n",
      "RougueL: 0.20986381776397364\n"
     ]
    }
   ],
   "source": [
    "print(\"Rougue1: {}\".format(np.mean(rouge1_list)))\n",
    "print(\"Rougue2: {}\".format(np.mean(rouge2_list)))\n",
    "print(\"RougueL: {}\".format(np.mean(rougeL_list)))"
   ]
  },
  {
   "cell_type": "code",
   "execution_count": null,
   "metadata": {},
   "outputs": [],
   "source": []
  },
  {
   "cell_type": "code",
   "execution_count": 3,
   "metadata": {},
   "outputs": [
    {
     "name": "stdout",
     "output_type": "stream",
     "text": [
      "please use environment variable to specify data directories\n"
     ]
    }
   ],
   "source": [
    "from model.fast_abs_rl import demo\n",
    "model = demo.fast_abs()"
   ]
  },
  {
   "cell_type": "code",
   "execution_count": 3,
   "metadata": {},
   "outputs": [
    {
     "name": "stdout",
     "output_type": "stream",
     "text": [
      "here!!!\n",
      "done\n"
     ]
    }
   ],
   "source": [
    "from model.opinosis import opinion_summaizer_3\n",
    "model = opinion_summaizer_3.opinosis()\n",
    "print(\"done\")"
   ]
  },
  {
   "cell_type": "markdown",
   "metadata": {},
   "source": [
    "## Testing for Abstractive"
   ]
  },
  {
   "cell_type": "code",
   "execution_count": 8,
   "metadata": {},
   "outputs": [
    {
     "name": "stdout",
     "output_type": "stream",
     "text": [
      "Finish: 0.0\n",
      "Finish: 0.01\n",
      "Finish: 0.02\n",
      "Finish: 0.03\n",
      "Finish: 0.03\n",
      "Finish: 0.04\n",
      "Finish: 0.05\n",
      "Finish: 0.06\n",
      "Finish: 0.07\n",
      "Finish: 0.08\n",
      "Finish: 0.09\n",
      "Finish: 0.1\n",
      "Finish: 0.1\n",
      "Finish: 0.11\n",
      "Finish: 0.12\n",
      "Finish: 0.13\n",
      "Finish: 0.14\n",
      "Finish: 0.15\n",
      "Finish: 0.16\n",
      "Finish: 0.17\n",
      "Total_time: 1911.3397843837738\n"
     ]
    }
   ],
   "source": [
    "## 都看fmeasure就好, 主要跟recall較相近\n",
    "NUM_SENTENCES = 2\n",
    "rouge1_list = []\n",
    "rouge2_list = []\n",
    "rougeL_list = []\n",
    "\n",
    "scorer = rouge_scorer.RougeScorer(['rouge1', 'rouge2', 'rougeL'], use_stemmer=True)\n",
    "start_time = time.time()\n",
    "for step,example in enumerate(df):  # example is `{'image': tf.Tensor, 'label': tf.Tensor}`\n",
    "    article = bytes.decode(example[\"article\"].numpy())\n",
    "    highlights = bytes.decode(example[\"highlights\"].numpy()).split(\"\\n\") #有多個reference\n",
    "    #print(article)\n",
    "    #hyp = model.inference(article, NUM_SENTENCES)\n",
    "    hyp = model.inference(article)\n",
    "    #print()\n",
    "    #print(hyp)\n",
    "    rouge1 = -1\n",
    "    rouge2 = -1\n",
    "    rougeL = -1\n",
    "    for i in range(len(highlights)):\n",
    "        scores = scorer.score(hyp, highlights[i])\n",
    "        # 選ref中最大的\n",
    "        if scores['rouge1'].fmeasure > rouge1:\n",
    "            rouge1 = scores['rouge1'].fmeasure\n",
    "        if scores['rouge2'].fmeasure > rouge2:\n",
    "            rouge2 = scores['rouge2'].fmeasure\n",
    "        if scores['rougeL'].fmeasure > rougeL:\n",
    "            rougeL = scores['rougeL'].fmeasure\n",
    "    \n",
    "    rouge1_list.append(rouge1)\n",
    "    rouge2_list.append(rouge2)\n",
    "    rougeL_list.append(rougeL)\n",
    "    \n",
    "    if step == 2000:\n",
    "        break;\n",
    "    if step % 100 == 0:\n",
    "        print(\"Finish: {}\".format(round(step/len(df), 2)))\n",
    "end_time = time.time()\n",
    "print(\"Total_time: {}\".format(end_time - start_time))"
   ]
  },
  {
   "cell_type": "code",
   "execution_count": 9,
   "metadata": {},
   "outputs": [
    {
     "name": "stdout",
     "output_type": "stream",
     "text": [
      "Rougue1: 0.27016733103875185\n",
      "Rougue2: 0.1525974199443153\n",
      "RougueL: 0.22324195865527222\n"
     ]
    }
   ],
   "source": [
    "print(\"Rougue1: {}\".format(np.mean(rouge1_list)))\n",
    "print(\"Rougue2: {}\".format(np.mean(rouge2_list)))\n",
    "print(\"RougueL: {}\".format(np.mean(rougeL_list)))"
   ]
  },
  {
   "cell_type": "code",
   "execution_count": null,
   "metadata": {},
   "outputs": [],
   "source": []
  },
  {
   "cell_type": "code",
   "execution_count": 4,
   "metadata": {},
   "outputs": [
    {
     "name": "stdout",
     "output_type": "stream",
     "text": [
      "Finish: 0.0\n"
     ]
    },
    {
     "name": "stderr",
     "output_type": "stream",
     "text": [
      "/home/maxhuang/Desktop/torchenv/lib/python3.6/site-packages/sklearn/cluster/_affinity_propagation.py:247: ConvergenceWarning: Affinity propagation did not converge, this model will not have any cluster centers.\n",
      "  \"will not have any cluster centers.\", ConvergenceWarning)\n"
     ]
    },
    {
     "name": "stdout",
     "output_type": "stream",
     "text": [
      "Finish: 0.01\n",
      "Finish: 0.02\n",
      "Finish: 0.03\n"
     ]
    },
    {
     "name": "stderr",
     "output_type": "stream",
     "text": [
      "/home/maxhuang/Desktop/torchenv/lib/python3.6/site-packages/sklearn/cluster/_affinity_propagation.py:136: UserWarning: All samples have mutually equal similarities. Returning arbitrary cluster center(s).\n",
      "  warnings.warn(\"All samples have mutually equal similarities. \"\n"
     ]
    },
    {
     "name": "stdout",
     "output_type": "stream",
     "text": [
      "Finish: 0.03\n",
      "Finish: 0.04\n",
      "Finish: 0.05\n",
      "Finish: 0.06\n",
      "Finish: 0.07\n",
      "Finish: 0.08\n",
      "Finish: 0.09\n",
      "Finish: 0.1\n",
      "Finish: 0.1\n",
      "Finish: 0.11\n",
      "Finish: 0.12\n",
      "Finish: 0.13\n",
      "Finish: 0.14\n",
      "Finish: 0.15\n",
      "Finish: 0.16\n",
      "Finish: 0.17\n",
      "Total_time: 670.2878336906433\n"
     ]
    }
   ],
   "source": [
    "## 都看fmeasure就好, 主要跟recall較相近\n",
    "NUM_SENTENCES = 2\n",
    "rouge1_list = []\n",
    "rouge2_list = []\n",
    "rougeL_list = []\n",
    "\n",
    "scorer = rouge_scorer.RougeScorer(['rouge1', 'rouge2', 'rougeL'], use_stemmer=True)\n",
    "start_time = time.time()\n",
    "for step,example in enumerate(df):  # example is `{'image': tf.Tensor, 'label': tf.Tensor}`\n",
    "    article = bytes.decode(example[\"article\"].numpy())\n",
    "    highlights = bytes.decode(example[\"highlights\"].numpy()).split(\"\\n\") #有多個reference\n",
    "    #print(article)\n",
    "    try:\n",
    "        hyp = model.inference(article, NUM_SENTENCES)\n",
    "        #hyp = model.inference(article)\n",
    "        #print(hyp + \"\\n\\n\")\n",
    "        rouge1 = -1\n",
    "        rouge2 = -1\n",
    "        rougeL = -1\n",
    "        for i in range(len(highlights)):\n",
    "            scores = scorer.score(hyp, highlights[i])\n",
    "            # 選ref中最大的\n",
    "            if scores['rouge1'].fmeasure > rouge1:\n",
    "                rouge1 = scores['rouge1'].fmeasure\n",
    "            if scores['rouge2'].fmeasure > rouge2:\n",
    "                rouge2 = scores['rouge2'].fmeasure\n",
    "            if scores['rougeL'].fmeasure > rougeL:\n",
    "                rougeL = scores['rougeL'].fmeasure\n",
    "\n",
    "        rouge1_list.append(rouge1)\n",
    "        rouge2_list.append(rouge2)\n",
    "        rougeL_list.append(rougeL)\n",
    "    except:\n",
    "        print(\"exception occur\")\n",
    "        pass \n",
    "    if(step==2000):\n",
    "        break\n",
    "    if step % 100 == 0:\n",
    "        print(\"Finish: {}\".format(round(step/len(df), 2)))\n",
    "end_time = time.time()\n",
    "print(\"Total_time: {}\".format(end_time - start_time))"
   ]
  },
  {
   "cell_type": "code",
   "execution_count": 12,
   "metadata": {},
   "outputs": [
    {
     "name": "stdout",
     "output_type": "stream",
     "text": [
      "Rougue1: 0.26352499110799227\n",
      "Rougue2: 0.11363698386317118\n",
      "RougueL: 0.21990390717317765\n"
     ]
    }
   ],
   "source": [
    "print(\"Rougue1: {}\".format(np.mean(rouge1_list)))\n",
    "print(\"Rougue2: {}\".format(np.mean(rouge2_list)))\n",
    "print(\"RougueL: {}\".format(np.mean(rougeL_list)))"
   ]
  }
 ],
 "metadata": {
  "kernelspec": {
   "display_name": "Python 3",
   "language": "python",
   "name": "python3"
  },
  "language_info": {
   "codemirror_mode": {
    "name": "ipython",
    "version": 3
   },
   "file_extension": ".py",
   "mimetype": "text/x-python",
   "name": "python",
   "nbconvert_exporter": "python",
   "pygments_lexer": "ipython3",
   "version": "3.6.12"
  }
 },
 "nbformat": 4,
 "nbformat_minor": 4
}
